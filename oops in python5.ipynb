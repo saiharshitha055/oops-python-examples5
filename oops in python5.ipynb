{
 "cells": [
  {
   "cell_type": "code",
   "execution_count": 2,
   "id": "de62083c",
   "metadata": {},
   "outputs": [
    {
     "name": "stdout",
     "output_type": "stream",
     "text": [
      "30\n",
      "[10, 20, 60, 40, 50]\n"
     ]
    }
   ],
   "source": [
    "#get item and set item using a list\n",
    "class nums:\n",
    "    def __init__(self,mylist):\n",
    "        self.mylist=mylist\n",
    "    def __getitem__(self,index):\n",
    "        return self.mylist[index]\n",
    "    def __setitem__(self,index,value):\n",
    "        self.mylist[index]=value\n",
    "numlist=nums([10,20,30,40,50])            \n",
    "print(numlist[2])\n",
    "numlist[2]=60\n",
    "print(numlist.mylist)"
   ]
  },
  {
   "cell_type": "code",
   "execution_count": 4,
   "id": "b4062849",
   "metadata": {},
   "outputs": [
    {
     "name": "stdout",
     "output_type": "stream",
     "text": [
      "BMW 8\n",
      "BMW 10\n"
     ]
    }
   ],
   "source": [
    "class car:\n",
    "    def __init__(self):\n",
    "        self.mil=10\n",
    "        self.com=\"BMW\"\n",
    "c1=car()        \n",
    "c2=car()\n",
    "c1.mil=8\n",
    "\n",
    "print(c1.com,c1.mil)\n",
    "print(c2.com,c2.mil)\n"
   ]
  },
  {
   "cell_type": "code",
   "execution_count": 11,
   "id": "86a5162c",
   "metadata": {},
   "outputs": [
    {
     "name": "stdout",
     "output_type": "stream",
     "text": [
      "8 Ferrari 5\n",
      "4 BMW 5\n"
     ]
    }
   ],
   "source": [
    "class car:\n",
    "    wheels=4\n",
    "    def __init__(self):\n",
    "        self.mil=10\n",
    "        self.com=\"BMW\"\n",
    "c1=car()\n",
    "c2=car()\n",
    "c1.mil=8\n",
    "c2.mil=4\n",
    "c1.com=\"Ferrari\"\n",
    "car.wheels=5\n",
    "print(c1.mil,c1.com ,c1.wheels)\n",
    "print(c2.mil,c2.com,c2.wheels)\n"
   ]
  },
  {
   "cell_type": "code",
   "execution_count": 13,
   "id": "0abc67af",
   "metadata": {},
   "outputs": [
    {
     "name": "stdout",
     "output_type": "stream",
     "text": [
      "\n",
      "Transaction history:\n",
      "1. Deposit: 2000, New balance: 7000\n",
      "2. Withdraw: 1000, New balance: 6000\n",
      "3. Balance check, Current balance: 6000\n"
     ]
    }
   ],
   "source": [
    "'''\n",
    "Problem Statement: You are tasked with simulating an ATM transaction history system. The system should allow users to perform multiple operations such as deposit, withdraw, and check balance, and keep track of each transaction in the history. Requirements: IN 3. OOP's The system should store each transaction in a list (transaction history). Each transaction should have the following format: Operation type (Deposit, Withdraw, Balance check). Amount (if applicable). Updated balance after the operation. The system should allow the user to view the transaction history upon request.\n",
    "\n",
    "Constraints:\n",
    "\n",
    "The transaction history should store a maximum of 1000 transactions. 1 Balance ≤ 1,000,000 1≤ Amount ≤ 1,000,000\n",
    "\n",
    "Sample Input:\n",
    "\n",
    "5000\n",
    "\n",
    "2000\n",
    "\n",
    "1000\n",
    "\n",
    "Balance check\n",
    "\n",
    "Sample Output:\n",
    "\n",
    "Transaction history:\n",
    "\n",
    "1. Deposit: 2000, New balance: 7000\n",
    "\n",
    "2. Withdraw: 1000, New balance: 6000\n",
    "\n",
    "3. Balance check, Current balance: 5000  \n",
    "'''\n",
    "class Transaction:\n",
    "    def __init__(self, operation, amount=None, balance=0):\n",
    "        self.operation = operation\n",
    "        self.amount = amount\n",
    "        self.balance = balance\n",
    "\n",
    "    def __str__(self):\n",
    "        if self.operation == \"Balance check\":\n",
    "            return f\"{self.operation}, Current balance: {self.balance}\"\n",
    "        else:\n",
    "            return f\"{self.operation}: {self.amount}, New balance: {self.balance}\"\n",
    "\n",
    "\n",
    "class ATM:\n",
    "    def __init__(self, initial_balance=0):\n",
    "        self.balance = initial_balance\n",
    "        self.history = []\n",
    "\n",
    "    def deposit(self, amount):\n",
    "        if 1 <= amount <= 1_000_000:\n",
    "            self.balance += amount\n",
    "            self._add_transaction(\"Deposit\", amount)\n",
    "        else:\n",
    "            print(\"Invalid deposit amount. Must be between 1 and 1,000,000.\")\n",
    "\n",
    "    def withdraw(self, amount):\n",
    "        if 1 <= amount <= 1_000_000:\n",
    "            if amount <= self.balance:\n",
    "                self.balance -= amount\n",
    "                self._add_transaction(\"Withdraw\", amount)\n",
    "            else:\n",
    "                print(\"Insufficient balance.\")\n",
    "        else:\n",
    "            print(\"Invalid withdrawal amount. Must be between 1 and 1,000,000.\")\n",
    "\n",
    "    def check_balance(self):\n",
    "        self._add_transaction(\"Balance check\")\n",
    "        return self.balance\n",
    "\n",
    "    def _add_transaction(self, operation, amount=None):\n",
    "        if len(self.history) < 1000:\n",
    "            transaction = Transaction(operation, amount, self.balance)\n",
    "            self.history.append(transaction)\n",
    "        else:\n",
    "            print(\"Transaction history full. Cannot record more transactions.\")\n",
    "\n",
    "    def show_history(self):\n",
    "        print(\"\\nTransaction history:\")\n",
    "        for idx, txn in enumerate(self.history, start=1):\n",
    "            print(f\"{idx}. {txn}\")\n",
    "\n",
    "\n",
    "# Sample usage\n",
    "atm = ATM(initial_balance=5000)\n",
    "\n",
    "atm.deposit(2000)       # New balance = 7000\n",
    "atm.withdraw(1000)      # New balance = 6000\n",
    "atm.check_balance()     # Still 6000, just logs the check\n",
    "atm.balance = 5000      # Simulate current balance being set to 5000 (optional)\n",
    "\n",
    "atm.show_history()\n",
    "\n",
    "\n",
    "\n",
    "\n",
    "\n"
   ]
  }
 ],
 "metadata": {
  "kernelspec": {
   "display_name": "Python 3",
   "language": "python",
   "name": "python3"
  },
  "language_info": {
   "codemirror_mode": {
    "name": "ipython",
    "version": 3
   },
   "file_extension": ".py",
   "mimetype": "text/x-python",
   "name": "python",
   "nbconvert_exporter": "python",
   "pygments_lexer": "ipython3",
   "version": "3.8.4"
  }
 },
 "nbformat": 4,
 "nbformat_minor": 5
}
